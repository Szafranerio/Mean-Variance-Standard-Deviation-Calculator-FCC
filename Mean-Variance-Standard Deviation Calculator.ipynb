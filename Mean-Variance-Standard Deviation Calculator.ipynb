{
 "cells": [
  {
   "cell_type": "code",
   "execution_count": 36,
   "metadata": {},
   "outputs": [],
   "source": [
    "import numpy as np"
   ]
  },
  {
   "cell_type": "code",
   "execution_count": 38,
   "metadata": {},
   "outputs": [],
   "source": [
    "def calculate(list):\n",
    "\n",
    "    ls = np.array(list)\n",
    "    print(ls)\n",
    "\n",
    "    mean_rows = [ls[[0,1,2]].mean(), ls[[3,4,5]].mean(), ls[[6,7,8]].mean()]\n",
    "    mean_columns = ([ls[[0,3,6]].mean(), ls[[1,4,7]].mean(), ls[[2,5,8]].mean()])\n",
    "  \n",
    "    var_rows = [ls[[0,1,2]].var(), ls[[3,4,5]].var(), ls[[6,7,8]].var()]\n",
    "    var_columns = ([ls[[0,3,6]].var(), ls[[1,4,7]].var(), ls[[2,5,8]].var()]) \n",
    "\n",
    "    std_rows = [ls[[0,1,2]].std(), ls[[3,4,5]].std(), ls[[6,7,8]].std()]\n",
    "    std_columns = ([ls[[0,3,6]].std(), ls[[1,4,7]].std(), ls[[2,5,8]].std()]) \n",
    "\n",
    "    max_rows = [ls[[0,1,2]].max(), ls[[3,4,5]].max(), ls[[6,7,8]].max()]\n",
    "    max_columns = ([ls[[0,3,6]].max(), ls[[1,4,7]].max(), ls[[2,5,8]].max()]) \n",
    "\n",
    "    min_rows = [ls[[0,1,2]].min(), ls[[3,4,5]].min(), ls[[6,7,8]].min()]\n",
    "    min_columns = ([ls[[0,3,6]].min(), ls[[1,4,7]].min(), ls[[2,5,8]].min()]) \n",
    "\n",
    "    sum_rows = [ls[[0,1,2]].sum(), ls[[3,4,5]].sum(), ls[[6,7,8]].sum()]\n",
    "    sum_columns = ([ls[[0,3,6]].sum(), ls[[1,4,7]].sum(), ls[[2,5,8]].sum()]) \n",
    "\n",
    "    return{\n",
    "        'mean': [mean_columns, mean_rows, ls.mean()],\n",
    "        'var': [var_columns, var_rows, ls.var()],\n",
    "        'std': [std_columns, std_rows, ls.std()],\n",
    "        'max': [max_columns, max_rows, ls.max()],   \n",
    "        'min': [min_columns, min_rows, ls.min()],\n",
    "        'sum': [sum_columns, sum_rows, ls.sum()],    \n",
    "    }\n",
    "    print(ls)"
   ]
  },
  {
   "cell_type": "code",
   "execution_count": 39,
   "metadata": {},
   "outputs": [
    {
     "name": "stdout",
     "output_type": "stream",
     "text": [
      "[0 1 2 3 4 5 6 7 8]\n"
     ]
    },
    {
     "data": {
      "text/plain": [
       "{'mean': [[3.0, 4.0, 5.0], [1.0, 4.0, 7.0], 4.0],\n",
       " 'var': [[6.0, 6.0, 6.0],\n",
       "  [0.6666666666666666, 0.6666666666666666, 0.6666666666666666],\n",
       "  6.666666666666667],\n",
       " 'std': [[2.449489742783178, 2.449489742783178, 2.449489742783178],\n",
       "  [0.816496580927726, 0.816496580927726, 0.816496580927726],\n",
       "  2.581988897471611],\n",
       " 'max': [[6, 7, 8], [2, 5, 8], 8],\n",
       " 'min': [[0, 1, 2], [0, 3, 6], 0],\n",
       " 'sum': [[9, 12, 15], [3, 12, 21], 36]}"
      ]
     },
     "execution_count": 39,
     "metadata": {},
     "output_type": "execute_result"
    }
   ],
   "source": [
    "calculate([0,1,2,3,4,5,6,7,8])"
   ]
  },
  {
   "cell_type": "code",
   "execution_count": null,
   "metadata": {},
   "outputs": [],
   "source": []
  }
 ],
 "metadata": {
  "kernelspec": {
   "display_name": "base",
   "language": "python",
   "name": "python3"
  },
  "language_info": {
   "codemirror_mode": {
    "name": "ipython",
    "version": 3
   },
   "file_extension": ".py",
   "mimetype": "text/x-python",
   "name": "python",
   "nbconvert_exporter": "python",
   "pygments_lexer": "ipython3",
   "version": "3.10.11"
  },
  "orig_nbformat": 4
 },
 "nbformat": 4,
 "nbformat_minor": 2
}
